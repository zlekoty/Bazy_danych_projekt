{
 "cells": [
  {
   "cell_type": "code",
   "execution_count": 81,
   "metadata": {},
   "outputs": [],
   "source": [
    "#pip install mysql-connector-python"
   ]
  },
  {
   "cell_type": "code",
   "execution_count": 374,
   "metadata": {},
   "outputs": [],
   "source": [
    "import mysql.connector\n",
    "from mysql.connector import Error\n",
    "import pandas as pd"
   ]
  },
  {
   "cell_type": "code",
   "execution_count": 375,
   "metadata": {},
   "outputs": [],
   "source": [
    "def create_db_connection(host_name, user_name, user_password, db_name):\n",
    "    connection = None\n",
    "    try:\n",
    "        connection = mysql.connector.connect(\n",
    "            host=host_name,\n",
    "            user=user_name,\n",
    "            passwd=user_password,\n",
    "            database=db_name\n",
    "        )\n",
    "        print(\"MySQL Database connection successful\")\n",
    "    except Error as err:\n",
    "        print(f\"Error: '{err}'\")\n",
    "\n",
    "    return connection"
   ]
  },
  {
   "cell_type": "code",
   "execution_count": 376,
   "metadata": {},
   "outputs": [],
   "source": [
    "def execute_query(connection, query):\n",
    "    cursor = connection.cursor()\n",
    "    try:\n",
    "        cursor.execute(query)\n",
    "        connection.commit()\n",
    "        print(\"Query successful\")\n",
    "    except Error as err:\n",
    "        print(f\"Error: '{err}'\")"
   ]
  },
  {
   "cell_type": "code",
   "execution_count": 377,
   "metadata": {},
   "outputs": [],
   "source": [
    "def read_query(connection, query):\n",
    "    cursor = connection.cursor()\n",
    "    result = None\n",
    "    try:\n",
    "        cursor.execute(query)\n",
    "        result = cursor.fetchall()\n",
    "        return result\n",
    "    except Error as err:\n",
    "        print(f\"Error: '{err}'\")"
   ]
  },
  {
   "cell_type": "code",
   "execution_count": 378,
   "metadata": {},
   "outputs": [
    {
     "name": "stdout",
     "output_type": "stream",
     "text": [
      "MySQL Database connection successful\n"
     ]
    }
   ],
   "source": [
    "c = create_db_connection(\"giniewicz.it\",\"team06\",\"te@m0g\",\"team06\")"
   ]
  },
  {
   "cell_type": "code",
   "execution_count": 379,
   "metadata": {},
   "outputs": [],
   "source": [
    "#suma zarobionych pieniędzy ze sprzedaży gier w styczniu 2022\n",
    "q1 = \"\"\"\n",
    "SELECT sum(game_purchase.price)\n",
    "FROM game_purchase\n",
    "WHERE DATE(game_purchase.purchase_date) BETWEEN '2022-01-01' AND '2022-01-31'\n",
    "\"\"\"\n",
    "\n",
    "#suma zarobionych pieniędzy z wypożyczeń gier w styczniu 2022\n",
    "q2 = \"\"\"\n",
    "SELECT sum(game_rental.price)\n",
    "FROM game_rental\n",
    "WHERE DATE(game_rental.rental_date) BETWEEN '2022-01-01' AND '2022-01-31'\n",
    "\"\"\"\n",
    "\n",
    "# suma zarobków pracowników\n",
    "q3 = \"\"\"\n",
    "SELECT sum(salary)\n",
    "FROM employees\n",
    "\"\"\"\n",
    "\n",
    "#pracownicy\n",
    "q4 = \"\"\"\n",
    "SELECT *\n",
    "FROM employees\n",
    "\"\"\"\n",
    "\n",
    "#za ile pieniędzy w danym miesiącu pracownik sprzedał gier\n",
    "q5 = \"\"\"\n",
    "SELECT sum(price) as t, employee_id, month(purchase_date) as m, year(purchase_date) as y, \n",
    "concat(employee_id,month(purchase_date),year(purchase_date)) as id\n",
    "FROM game_purchase\n",
    "GROUP BY y, m, employee_id\n",
    "\"\"\"\n",
    "\n",
    "#za ile pieniędzy w danym miesiącu pracownik wypożyczył gier\n",
    "q6 = \"\"\"\n",
    "SELECT sum(game_rental.price) as t, game_rental.employee_id, month(game_rental.rental_date) as m, year(game_rental.rental_date) as y, \n",
    "concat(game_rental.employee_id,month(game_rental.rental_date),year(game_rental.rental_date)) as id,\n",
    "concat(employees.first_name,\" \",employees.last_name) as names\n",
    "FROM game_rental INNER JOIN employees on game_rental.employee_id = employees.employee_id\n",
    "GROUP BY y, m, game_rental.employee_id\n",
    "\"\"\"\n",
    "\n",
    "#przychody ze sprzedaży\n",
    "q7 = \"\"\"\n",
    "SELECT sum(game_purchase.price), shop_inventory.game_title\n",
    "FROM game_purchase INNER JOIN shop_inventory ON game_purchase.game_id = shop_inventory.game_id\n",
    "GROUP BY game_purchase.game_id\n",
    "ORDER BY sum(game_purchase.price) DESC\n",
    "LIMIT 5;\n",
    "\"\"\"\n",
    "\n",
    "#przychody z wypożyczeń\n",
    "q8 = \"\"\"\n",
    "SELECT sum(game_rental.price), shop_inventory.game_title\n",
    "FROM game_rental INNER JOIN shop_inventory ON game_rental.game_id = shop_inventory.game_id\n",
    "GROUP BY game_rental.game_id\n",
    "ORDER BY sum(game_rental.price) DESC\n",
    "LIMIT 5;\n",
    "\"\"\"\n",
    "\n"
   ]
  },
  {
   "cell_type": "code",
   "execution_count": 380,
   "metadata": {},
   "outputs": [],
   "source": [
    "r1 = float(read_query(c,q1)[0][0])\n",
    "r2 = float(read_query(c,q2)[0][0])\n",
    "r3 = float(read_query(c,q3)[0][0])\n",
    "r4 = read_query(c,q4)\n",
    "r5 = read_query(c,q5)\n",
    "r6 = read_query(c,q6)\n",
    "r7 = read_query(c,q7)\n",
    "r8 = read_query(c,q8)"
   ]
  },
  {
   "cell_type": "code",
   "execution_count": 381,
   "metadata": {
    "code_folding": []
   },
   "outputs": [],
   "source": [
    "df1 = pd.DataFrame({\n",
    "    \"purchase_income\": [r1],\n",
    "    \"rental_income\": [r2],\n",
    "    \"employees_cost\": [r3]})\n",
    "df4 = pd.DataFrame(r4, columns =['employee_id', 'first_name', 'last_name', 'salary'])\n",
    "df5 = pd.DataFrame(r5, columns =['sold_games_price', 'employee_id', 'month', 'year',\"id\"])\n",
    "df6 = pd.DataFrame(r6, columns =['rented_games_price', 'employee_id_r', 'month_r', 'year_r',\"id\",\"name\"])\n",
    "df6_1 = df6.join(df5.set_index('id'), on='id')\n",
    "df7 = pd.DataFrame(r7, columns =[\"purchase_income\",\"game_title\"])\n",
    "df8 = pd.DataFrame(r8, columns =[\"rental_income\",\"game_title\"])"
   ]
  },
  {
   "cell_type": "code",
   "execution_count": 382,
   "metadata": {},
   "outputs": [],
   "source": [
    "# zysk za styczeń 2022\n",
    "s = r1+r2-r3"
   ]
  },
  {
   "cell_type": "code",
   "execution_count": 383,
   "metadata": {},
   "outputs": [],
   "source": [
    "# top pracownicy\n",
    "df6_1[\"sold_games_price\"] = df6_1[\"sold_games_price\"].fillna(0)\n",
    "df6_1[\"total\"] =( df6_1[\"rented_games_price\"] + df6_1[\"sold_games_price\"]).astype(int)\n",
    "max_value_idx = df6_1.groupby(['year_r', 'month_r'])['total'].idxmax()\n",
    "max_value_employees = df6_1.loc[max_value_idx][[\"name\",\"total\",\"month_r\",\"year_r\"]].rename(columns={\"name\": \"top_employee\"})"
   ]
  },
  {
   "cell_type": "code",
   "execution_count": 384,
   "metadata": {},
   "outputs": [],
   "source": [
    "html = f'''\n",
    "<html>\n",
    "    <head>\n",
    "        <title>team06</title>\n",
    "        <style>\n",
    "            .highlight {{\n",
    "                font-weight: bold;\n",
    "                color: green;\n",
    "            }}\n",
    "        </style>\n",
    "    </head>\n",
    "    <body>\n",
    "        <h1>Raport - analiza danych.</h1>\n",
    "        <h2>1. Pracownicy miesiąca</h2>\n",
    "        {max_value_employees.to_html()}\n",
    "        \n",
    "        <h2>2. Top 10 zawodników</h2>\n",
    "    \n",
    "        \n",
    "        <h2>3. Przychody w zależności od sprzedaży i wypożyczeń</h2>\n",
    "        <p>Największe przychody ze sprzedaży:</p>\n",
    "        {df7.to_html()}\n",
    "        <p>Największe przychody z wypożyczeń:</p>\n",
    "        {df8.to_html()}\n",
    "        \n",
    "        <h2>4. Własne</h2>\n",
    "        <h3>4.1 Zyski za styczeń 2022</h3>\n",
    "        {df1.to_html()}\n",
    "        <p>Zyski z działalności wypożyczalni gier w styczniu 2022,\n",
    "        obliczone jako różnica między sumą z przychodów ze sprzedaży i wypożyczeń gier,\n",
    "        a sumą miesięcznych pensji pracowników:</p>\n",
    "        <p><span class=\"highlight\">{s} zł</span></p>\n",
    "        \n",
    "        <h3>4.2 </h3>\n",
    "         \n",
    "    </body>\n",
    "</html>\n",
    "    '''\n",
    "\n",
    "with open('html_report.html', 'w') as f:\n",
    "    f.write(html)"
   ]
  },
  {
   "cell_type": "code",
   "execution_count": null,
   "metadata": {},
   "outputs": [],
   "source": []
  },
  {
   "cell_type": "code",
   "execution_count": null,
   "metadata": {},
   "outputs": [],
   "source": []
  }
 ],
 "metadata": {
  "kernelspec": {
   "display_name": "Python 3 (ipykernel)",
   "language": "python",
   "name": "python3"
  },
  "language_info": {
   "codemirror_mode": {
    "name": "ipython",
    "version": 3
   },
   "file_extension": ".py",
   "mimetype": "text/x-python",
   "name": "python",
   "nbconvert_exporter": "python",
   "pygments_lexer": "ipython3",
   "version": "3.9.13"
  },
  "toc": {
   "base_numbering": 1,
   "nav_menu": {},
   "number_sections": true,
   "sideBar": true,
   "skip_h1_title": false,
   "title_cell": "Table of Contents",
   "title_sidebar": "Contents",
   "toc_cell": false,
   "toc_position": {},
   "toc_section_display": true,
   "toc_window_display": false
  }
 },
 "nbformat": 4,
 "nbformat_minor": 4
}
